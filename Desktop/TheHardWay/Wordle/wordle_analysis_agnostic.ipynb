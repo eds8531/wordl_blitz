{
 "cells": [
  {
   "cell_type": "code",
   "execution_count": 1,
   "metadata": {},
   "outputs": [
    {
     "name": "stdout",
     "output_type": "stream",
     "text": [
      "4738\n"
     ]
    }
   ],
   "source": [
    "from wordle_agnostic import wordle_blitz\n",
    "import shelve\n",
    "from wordcloud import WordCloud\n",
    "import matplotlib.pyplot as plt\n",
    "import numpy as np\n",
    "import pandas as pd\n",
    "import seaborn as sns\n",
    "\n",
    "shelfFile = shelve.open('five_words')\n",
    "five_words1 = shelfFile['five_words2']\n",
    "database = shelfFile['blank_db']\n",
    "print(len(five_words1))\n"
   ]
  },
  {
   "cell_type": "code",
   "execution_count": 2,
   "metadata": {},
   "outputs": [
    {
     "data": {
      "text/html": [
       "<div>\n",
       "<style scoped>\n",
       "    .dataframe tbody tr th:only-of-type {\n",
       "        vertical-align: middle;\n",
       "    }\n",
       "\n",
       "    .dataframe tbody tr th {\n",
       "        vertical-align: top;\n",
       "    }\n",
       "\n",
       "    .dataframe thead th {\n",
       "        text-align: right;\n",
       "    }\n",
       "</style>\n",
       "<table border=\"1\" class=\"dataframe\">\n",
       "  <thead>\n",
       "    <tr style=\"text-align: right;\">\n",
       "      <th></th>\n",
       "      <th>Number Wrong</th>\n",
       "      <th>Percent Missed</th>\n",
       "      <th>Round 1</th>\n",
       "      <th>Round 2</th>\n",
       "      <th>Round 3</th>\n",
       "      <th>Round 4</th>\n",
       "      <th>Round 5</th>\n",
       "      <th>Round 6</th>\n",
       "      <th>Guesses</th>\n",
       "      <th>Pattern</th>\n",
       "    </tr>\n",
       "    <tr>\n",
       "      <th>Word</th>\n",
       "      <th></th>\n",
       "      <th></th>\n",
       "      <th></th>\n",
       "      <th></th>\n",
       "      <th></th>\n",
       "      <th></th>\n",
       "      <th></th>\n",
       "      <th></th>\n",
       "      <th></th>\n",
       "      <th></th>\n",
       "    </tr>\n",
       "  </thead>\n",
       "  <tbody>\n",
       "  </tbody>\n",
       "</table>\n",
       "</div>"
      ],
      "text/plain": [
       "Empty DataFrame\n",
       "Columns: [Number Wrong, Percent Missed, Round 1, Round 2, Round 3, Round 4, Round 5, Round 6, Guesses, Pattern]\n",
       "Index: []"
      ]
     },
     "execution_count": 2,
     "metadata": {},
     "output_type": "execute_result"
    }
   ],
   "source": [
    "database[database['Number Wrong']>0].head()"
   ]
  },
  {
   "cell_type": "code",
   "execution_count": 3,
   "metadata": {},
   "outputs": [
    {
     "name": "stdout",
     "output_type": "stream",
     "text": [
      "0\n",
      "100\n",
      "200\n",
      "300\n",
      "cower\n",
      "['greek', 'wires', 'newer', 'mower', 'tower', 'dower']\n",
      "400\n",
      "500\n",
      "600\n",
      "700\n",
      "faded\n",
      "['doles', 'raped', 'mated', 'faced', 'fazed', 'faked']\n",
      "800\n",
      "900\n",
      "1000\n",
      "Correct tries: 934\n",
      "Incorrect tries: 66\n",
      "Percent correct: 93.40%\n",
      "Correct answers per round:\n",
      "Round 4: 342\n",
      "Round 5: 258\n",
      "Round 6: 122\n"
     ]
    }
   ],
   "source": [
    "db = wordle_blitz(1000, five_words1)"
   ]
  },
  {
   "cell_type": "code",
   "execution_count": 6,
   "metadata": {},
   "outputs": [],
   "source": [
    "db_wrong = db[db['Number Wrong'] >0]"
   ]
  },
  {
   "cell_type": "code",
   "execution_count": 53,
   "metadata": {},
   "outputs": [
    {
     "data": {
      "text/html": [
       "<div>\n",
       "<style scoped>\n",
       "    .dataframe tbody tr th:only-of-type {\n",
       "        vertical-align: middle;\n",
       "    }\n",
       "\n",
       "    .dataframe tbody tr th {\n",
       "        vertical-align: top;\n",
       "    }\n",
       "\n",
       "    .dataframe thead th {\n",
       "        text-align: right;\n",
       "    }\n",
       "</style>\n",
       "<table border=\"1\" class=\"dataframe\">\n",
       "  <thead>\n",
       "    <tr style=\"text-align: right;\">\n",
       "      <th></th>\n",
       "      <th>Tries</th>\n",
       "      <th>Number Wrong</th>\n",
       "      <th>Percent Missed</th>\n",
       "      <th>Round 1</th>\n",
       "      <th>Round 2</th>\n",
       "      <th>Round 3</th>\n",
       "      <th>Round 4</th>\n",
       "      <th>Round 5</th>\n",
       "      <th>Round 6</th>\n",
       "      <th>Guesses</th>\n",
       "      <th>Pattern</th>\n",
       "      <th>Two Letters</th>\n",
       "      <th>Brick</th>\n",
       "      <th>Stomp</th>\n",
       "      <th>Nudge</th>\n",
       "    </tr>\n",
       "    <tr>\n",
       "      <th>Word</th>\n",
       "      <th></th>\n",
       "      <th></th>\n",
       "      <th></th>\n",
       "      <th></th>\n",
       "      <th></th>\n",
       "      <th></th>\n",
       "      <th></th>\n",
       "      <th></th>\n",
       "      <th></th>\n",
       "      <th></th>\n",
       "      <th></th>\n",
       "      <th></th>\n",
       "      <th></th>\n",
       "      <th></th>\n",
       "      <th></th>\n",
       "    </tr>\n",
       "  </thead>\n",
       "  <tbody>\n",
       "    <tr>\n",
       "      <th>lames</th>\n",
       "      <td>3</td>\n",
       "      <td>2</td>\n",
       "      <td>66.666667</td>\n",
       "      <td>0</td>\n",
       "      <td>0</td>\n",
       "      <td>0</td>\n",
       "      <td>0</td>\n",
       "      <td>0</td>\n",
       "      <td>0</td>\n",
       "      <td>[]</td>\n",
       "      <td>[]</td>\n",
       "      <td>False</td>\n",
       "      <td>bbbbb</td>\n",
       "      <td>ybbyb</td>\n",
       "      <td>bbbby</td>\n",
       "    </tr>\n",
       "    <tr>\n",
       "      <th>poses</th>\n",
       "      <td>2</td>\n",
       "      <td>2</td>\n",
       "      <td>100.000000</td>\n",
       "      <td>0</td>\n",
       "      <td>0</td>\n",
       "      <td>0</td>\n",
       "      <td>0</td>\n",
       "      <td>0</td>\n",
       "      <td>0</td>\n",
       "      <td>[]</td>\n",
       "      <td>[]</td>\n",
       "      <td>True</td>\n",
       "      <td>bbbbb</td>\n",
       "      <td>ybyby</td>\n",
       "      <td>bbbby</td>\n",
       "    </tr>\n",
       "    <tr>\n",
       "      <th>abode</th>\n",
       "      <td>1</td>\n",
       "      <td>1</td>\n",
       "      <td>100.000000</td>\n",
       "      <td>0</td>\n",
       "      <td>0</td>\n",
       "      <td>0</td>\n",
       "      <td>0</td>\n",
       "      <td>0</td>\n",
       "      <td>0</td>\n",
       "      <td>[]</td>\n",
       "      <td>[]</td>\n",
       "      <td>False</td>\n",
       "      <td>ybbbb</td>\n",
       "      <td>bbgbb</td>\n",
       "      <td>bbybg</td>\n",
       "    </tr>\n",
       "    <tr>\n",
       "      <th>lazed</th>\n",
       "      <td>1</td>\n",
       "      <td>1</td>\n",
       "      <td>100.000000</td>\n",
       "      <td>0</td>\n",
       "      <td>0</td>\n",
       "      <td>0</td>\n",
       "      <td>0</td>\n",
       "      <td>0</td>\n",
       "      <td>0</td>\n",
       "      <td>[]</td>\n",
       "      <td>[]</td>\n",
       "      <td>False</td>\n",
       "      <td>bbbbb</td>\n",
       "      <td>bbbbb</td>\n",
       "      <td>bbyby</td>\n",
       "    </tr>\n",
       "    <tr>\n",
       "      <th>maces</th>\n",
       "      <td>1</td>\n",
       "      <td>1</td>\n",
       "      <td>100.000000</td>\n",
       "      <td>0</td>\n",
       "      <td>0</td>\n",
       "      <td>0</td>\n",
       "      <td>0</td>\n",
       "      <td>0</td>\n",
       "      <td>0</td>\n",
       "      <td>[]</td>\n",
       "      <td>[]</td>\n",
       "      <td>False</td>\n",
       "      <td>bbbyb</td>\n",
       "      <td>ybbyb</td>\n",
       "      <td>bbbby</td>\n",
       "    </tr>\n",
       "  </tbody>\n",
       "</table>\n",
       "</div>"
      ],
      "text/plain": [
       "       Tries  Number Wrong  Percent Missed  Round 1  Round 2  Round 3  \\\n",
       "Word                                                                    \n",
       "lames      3             2       66.666667        0        0        0   \n",
       "poses      2             2      100.000000        0        0        0   \n",
       "abode      1             1      100.000000        0        0        0   \n",
       "lazed      1             1      100.000000        0        0        0   \n",
       "maces      1             1      100.000000        0        0        0   \n",
       "\n",
       "       Round 4  Round 5  Round 6 Guesses Pattern  Two Letters  Brick  Stomp  \\\n",
       "Word                                                                          \n",
       "lames        0        0        0      []      []        False  bbbbb  ybbyb   \n",
       "poses        0        0        0      []      []         True  bbbbb  ybyby   \n",
       "abode        0        0        0      []      []        False  ybbbb  bbgbb   \n",
       "lazed        0        0        0      []      []        False  bbbbb  bbbbb   \n",
       "maces        0        0        0      []      []        False  bbbyb  ybbyb   \n",
       "\n",
       "       Nudge  \n",
       "Word          \n",
       "lames  bbbby  \n",
       "poses  bbbby  \n",
       "abode  bbybg  \n",
       "lazed  bbyby  \n",
       "maces  bbbby  "
      ]
     },
     "execution_count": 53,
     "metadata": {},
     "output_type": "execute_result"
    }
   ],
   "source": [
    "db_wrong.sort_values('Number Wrong', ascending = False).head()"
   ]
  },
  {
   "cell_type": "code",
   "execution_count": 8,
   "metadata": {},
   "outputs": [],
   "source": [
    "word_to_wrong_map = dict(zip(db_wrong.index.values, db_wrong['Number Wrong']))"
   ]
  },
  {
   "cell_type": "code",
   "execution_count": 9,
   "metadata": {},
   "outputs": [
    {
     "data": {
      "image/png": "[encoded data removed]",
      "text/plain": [
       "<Figure size 864x576 with 1 Axes>"
      ]
     },
     "metadata": {
      "needs_background": "light"
     },
     "output_type": "display_data"
    }
   ],
   "source": [
    "from wordcloud import WordCloud\n",
    "import matplotlib.pyplot as plt\n",
    "tupl = dict(word_to_wrong_map.items())\n",
    "word_cloud = WordCloud(width=1600,height=800,).generate_from_frequencies(tupl)\n",
    "plt.figure(figsize = (12,8))\n",
    "plt.imshow(word_cloud)\n",
    "plt.axis('off')\n",
    "plt.tight_layout(pad=0)"
   ]
  },
  {
   "cell_type": "code",
   "execution_count": 10,
   "metadata": {},
   "outputs": [],
   "source": [
    "alph = 'abcdefghijklmnopqrstuvwxyz'\n",
    "\n",
    "a_list = []\n",
    "for let in alph:\n",
    "    a_list.append(let)\n",
    "\n",
    "count_list = []\n",
    "\n",
    "for letter in alph:\n",
    "    letter_count = 0\n",
    "    for word in db_wrong.index.values:\n",
    "        if letter in word:\n",
    "            letter_count +=1\n",
    "    count_list.append(letter_count)"
   ]
  },
  {
   "cell_type": "code",
   "execution_count": 11,
   "metadata": {},
   "outputs": [],
   "source": [
    "df_letters = pd.DataFrame()\n",
    "df_letters['Letter'] = a_list\n",
    "df_letters['Count'] = count_list\n",
    "df_letters = df_letters.sort_values(by = ['Count'], ascending = False)"
   ]
  },
  {
   "cell_type": "code",
   "execution_count": 12,
   "metadata": {},
   "outputs": [
    {
     "data": {
      "text/plain": [
       "Text(0, 0.5, 'Percent Wrong')"
      ]
     },
     "execution_count": 12,
     "metadata": {},
     "output_type": "execute_result"
    },
    {
     "data": {
      "image/png": "[encoded data removed]",
      "text/plain": [
       "<Figure size 432x288 with 1 Axes>"
      ]
     },
     "metadata": {
      "needs_background": "light"
     },
     "output_type": "display_data"
    }
   ],
   "source": [
    "plt.bar(x = df_letters['Letter'], height = df_letters['Count'], color = ['m'])\n",
    "plt.title(\"Letter List\")\n",
    "plt.xlabel('Letters')\n",
    "plt.ylabel(\"Percent Wrong\")"
   ]
  },
  {
   "cell_type": "markdown",
   "metadata": {},
   "source": [
    "Percent wrong with two letters vs percent wrong total"
   ]
  },
  {
   "cell_type": "markdown",
   "metadata": {},
   "source": [
    "percent of five letter words where 2 letters are the same"
   ]
  },
  {
   "cell_type": "code",
   "execution_count": 13,
   "metadata": {},
   "outputs": [],
   "source": [
    "pertwotot = db[db['Two Letters'] == True].shape[0]/db.shape[0]"
   ]
  },
  {
   "cell_type": "code",
   "execution_count": 14,
   "metadata": {},
   "outputs": [],
   "source": [
    "pertwowr = db_wrong[db_wrong['Two Letters'] == True].shape[0]/db_wrong.shape[0]"
   ]
  },
  {
   "cell_type": "code",
   "execution_count": 15,
   "metadata": {},
   "outputs": [],
   "source": [
    "df_tl = pd.DataFrame()\n",
    "df_tl['Name'] = ['Percent with two letters total', 'Percent with two letters wrong']\n",
    "df_tl['Percent Wrong'] = [pertwotot, pertwowr]\n"
   ]
  },
  {
   "cell_type": "code",
   "execution_count": 16,
   "metadata": {},
   "outputs": [
    {
     "data": {
      "text/plain": [
       "Text(0, 0.5, 'Percent of total words')"
      ]
     },
     "execution_count": 16,
     "metadata": {},
     "output_type": "execute_result"
    },
    {
     "data": {
      "image/png": "[encoded data removed]",
      "text/plain": [
       "<Figure size 432x288 with 1 Axes>"
      ]
     },
     "metadata": {
      "needs_background": "light"
     },
     "output_type": "display_data"
    }
   ],
   "source": [
    "plt.bar(x = ['Total w 2 letters', 'Wrong w 2 letters'], height = df_tl['Percent Wrong'], color = ['c','m'])\n",
    "plt.title(\"Words with 2 letters\")\n",
    "plt.ylabel(\"Percent of total words\")"
   ]
  },
  {
   "cell_type": "markdown",
   "metadata": {},
   "source": [
    "words that end in 's'"
   ]
  },
  {
   "cell_type": "code",
   "execution_count": 17,
   "metadata": {},
   "outputs": [
    {
     "name": "stdout",
     "output_type": "stream",
     "text": [
      "Total words ending in 's': 0.3224989447024061\n",
      "Wrong words ending in 's': 0.625\n"
     ]
    },
    {
     "data": {
      "text/plain": [
       "Text(0, 0.5, 'Percent of total words')"
      ]
     },
     "execution_count": 17,
     "metadata": {},
     "output_type": "execute_result"
    },
    {
     "data": {
      "image/png": "[encoded data removed]",
      "text/plain": [
       "<Figure size 432x288 with 1 Axes>"
      ]
     },
     "metadata": {
      "needs_background": "light"
     },
     "output_type": "display_data"
    }
   ],
   "source": [
    "swords1 = 0\n",
    "\n",
    "for word in db.index.values:\n",
    "        if word[4] == 's':\n",
    "            swords1 +=1\n",
    "\n",
    "swords2 = 0\n",
    "\n",
    "for word in db_wrong.index.values:\n",
    "        if word[4] == 's':\n",
    "            swords2 +=1\n",
    "ends_tot = swords1/len(db.index.values)\n",
    "ends_wr = swords2/len(db_wrong.index.values)\n",
    "\n",
    "print(\"Total words ending in 's': \" + str(ends_tot))\n",
    "print(\"Wrong words ending in 's': \" + str(ends_wr))\n",
    "plt.bar(x = ['Total ending in s', 'Wrong ending in s'], height = [ends_tot, ends_wr], color = ['c','m'])\n",
    "plt.title(\"Words that end in 's'\")\n",
    "plt.ylabel(\"Percent of total words\")"
   ]
  },
  {
   "cell_type": "markdown",
   "metadata": {},
   "source": [
    "vowel placement"
   ]
  },
  {
   "cell_type": "code",
   "execution_count": 18,
   "metadata": {},
   "outputs": [
    {
     "name": "stdout",
     "output_type": "stream",
     "text": [
      "[251, 779, 542, 285, 129]\n",
      "[113, 543, 334, 1010, 539]\n",
      "[64, 531, 469, 248, 28]\n",
      "[87, 722, 403, 210, 92]\n",
      "[48, 420, 278, 126, 7]\n"
     ]
    }
   ],
   "source": [
    "a_list = [0,0,0,0,0]\n",
    "e_list = [0,0,0,0,0]\n",
    "i_list = [0,0,0,0,0]\n",
    "o_list = [0,0,0,0,0]\n",
    "u_list = [0,0,0,0,0]\n",
    "\n",
    "\n",
    "for word in db.index.values:\n",
    "    for i in range(0,5):\n",
    "        if word[i] == 'a':\n",
    "            a_list[i] +=1\n",
    "        if word[i] == 'e':\n",
    "            e_list[i] +=1\n",
    "        if word[i] == 'i':\n",
    "            i_list[i] +=1\n",
    "        if word[i] == 'o':\n",
    "            o_list[i] +=1\n",
    "        if word[i] == 'u':\n",
    "            u_list[i] +=1\n",
    "\n",
    "print(a_list)\n",
    "print(e_list)\n",
    "print(i_list)\n",
    "print(o_list)\n",
    "print(u_list)"
   ]
  },
  {
   "cell_type": "code",
   "execution_count": 19,
   "metadata": {},
   "outputs": [
    {
     "name": "stdout",
     "output_type": "stream",
     "text": [
      "[563, 2995, 2026, 1879, 795]\n"
     ]
    }
   ],
   "source": [
    "vow_list = [0,0,0,0,0]\n",
    "\n",
    "for i in range(0,5):\n",
    "    vow_list[i] = a_list[i] + e_list[i] + i_list[i] + o_list[i] + u_list[i]  \n",
    "    \n",
    "print(vow_list)"
   ]
  },
  {
   "cell_type": "markdown",
   "metadata": {},
   "source": [
    "This actually gives no useful info. Let me try again."
   ]
  },
  {
   "cell_type": "markdown",
   "metadata": {},
   "source": [
    "most common vowel distributions."
   ]
  },
  {
   "cell_type": "code",
   "execution_count": 20,
   "metadata": {},
   "outputs": [],
   "source": [
    "vdist_list = []\n",
    "for word in db.index.values:\n",
    "    vowel_list = ['_','_','_','_','_']\n",
    "    for i in range(0,5):\n",
    "        if word[i] in 'aeiou':\n",
    "            vowel_list[i] = word[i]\n",
    "    vowel_list = ''.join(vowel_list)\n",
    "    vdist_list.append(vowel_list)\n",
    "    "
   ]
  },
  {
   "cell_type": "code",
   "execution_count": 21,
   "metadata": {},
   "outputs": [],
   "source": [
    "vd_set = set(vdist_list)\n",
    "vd_count = []\n",
    "for i in vd_set:\n",
    "    vd_count.append(vdist_list.count(i))"
   ]
  },
  {
   "cell_type": "code",
   "execution_count": 22,
   "metadata": {},
   "outputs": [
    {
     "data": {
      "text/plain": [
       "[9,\n",
       " 2,\n",
       " 1,\n",
       " 56,\n",
       " 8,\n",
       " 2,\n",
       " 2,\n",
       " 8,\n",
       " 1,\n",
       " 2,\n",
       " 1,\n",
       " 1,\n",
       " 10,\n",
       " 6,\n",
       " 10,\n",
       " 1,\n",
       " 3,\n",
       " 21,\n",
       " 1,\n",
       " 40,\n",
       " 37,\n",
       " 4,\n",
       " 4,\n",
       " 1,\n",
       " 2,\n",
       " 21,\n",
       " 2,\n",
       " 1,\n",
       " 2,\n",
       " 8,\n",
       " 5,\n",
       " 1,\n",
       " 7,\n",
       " 1,\n",
       " 14,\n",
       " 2,\n",
       " 2,\n",
       " 6,\n",
       " 15,\n",
       " 3,\n",
       " 1,\n",
       " 4,\n",
       " 12,\n",
       " 1,\n",
       " 1,\n",
       " 3,\n",
       " 87,\n",
       " 189,\n",
       " 1,\n",
       " 22,\n",
       " 1,\n",
       " 7,\n",
       " 14,\n",
       " 3,\n",
       " 1,\n",
       " 1,\n",
       " 1,\n",
       " 1,\n",
       " 1,\n",
       " 3,\n",
       " 2,\n",
       " 3,\n",
       " 1,\n",
       " 1,\n",
       " 2,\n",
       " 1,\n",
       " 4,\n",
       " 1,\n",
       " 6,\n",
       " 10,\n",
       " 1,\n",
       " 1,\n",
       " 8,\n",
       " 1,\n",
       " 19,\n",
       " 2,\n",
       " 7,\n",
       " 2,\n",
       " 4,\n",
       " 3,\n",
       " 15,\n",
       " 1,\n",
       " 18,\n",
       " 3,\n",
       " 1,\n",
       " 5,\n",
       " 34,\n",
       " 101,\n",
       " 1,\n",
       " 60,\n",
       " 1,\n",
       " 6,\n",
       " 7,\n",
       " 4,\n",
       " 3,\n",
       " 1,\n",
       " 4,\n",
       " 1,\n",
       " 2,\n",
       " 1,\n",
       " 3,\n",
       " 24,\n",
       " 3,\n",
       " 1,\n",
       " 2,\n",
       " 12,\n",
       " 1,\n",
       " 1,\n",
       " 178,\n",
       " 1,\n",
       " 178,\n",
       " 2,\n",
       " 3,\n",
       " 25,\n",
       " 1,\n",
       " 209,\n",
       " 1,\n",
       " 4,\n",
       " 1,\n",
       " 3,\n",
       " 2,\n",
       " 3,\n",
       " 5,\n",
       " 20,\n",
       " 12,\n",
       " 1,\n",
       " 2,\n",
       " 1,\n",
       " 1,\n",
       " 8,\n",
       " 1,\n",
       " 1,\n",
       " 4,\n",
       " 1,\n",
       " 44,\n",
       " 1,\n",
       " 3,\n",
       " 1,\n",
       " 2,\n",
       " 1,\n",
       " 2,\n",
       " 9,\n",
       " 3,\n",
       " 2,\n",
       " 14,\n",
       " 2,\n",
       " 2,\n",
       " 231,\n",
       " 12,\n",
       " 5,\n",
       " 1,\n",
       " 12,\n",
       " 2,\n",
       " 1,\n",
       " 1,\n",
       " 68,\n",
       " 4,\n",
       " 17,\n",
       " 12,\n",
       " 2,\n",
       " 18,\n",
       " 2,\n",
       " 1,\n",
       " 2,\n",
       " 10,\n",
       " 3,\n",
       " 1,\n",
       " 16,\n",
       " 2,\n",
       " 1,\n",
       " 1,\n",
       " 4,\n",
       " 121,\n",
       " 20,\n",
       " 1,\n",
       " 9,\n",
       " 3,\n",
       " 6,\n",
       " 1,\n",
       " 2,\n",
       " 1,\n",
       " 1,\n",
       " 1,\n",
       " 4,\n",
       " 12,\n",
       " 1,\n",
       " 12,\n",
       " 1,\n",
       " 1,\n",
       " 1,\n",
       " 1,\n",
       " 21,\n",
       " 68,\n",
       " 5,\n",
       " 1,\n",
       " 1,\n",
       " 10,\n",
       " 5,\n",
       " 46,\n",
       " 36,\n",
       " 1,\n",
       " 1,\n",
       " 2,\n",
       " 13,\n",
       " 1,\n",
       " 2,\n",
       " 2,\n",
       " 1,\n",
       " 2,\n",
       " 5,\n",
       " 4,\n",
       " 4,\n",
       " 2,\n",
       " 1,\n",
       " 1,\n",
       " 7,\n",
       " 149,\n",
       " 1,\n",
       " 1,\n",
       " 4,\n",
       " 3,\n",
       " 1,\n",
       " 14,\n",
       " 18,\n",
       " 3,\n",
       " 2,\n",
       " 1,\n",
       " 1,\n",
       " 20,\n",
       " 1,\n",
       " 25,\n",
       " 1,\n",
       " 10,\n",
       " 7,\n",
       " 2,\n",
       " 2,\n",
       " 45,\n",
       " 5,\n",
       " 3,\n",
       " 2,\n",
       " 1,\n",
       " 2,\n",
       " 5,\n",
       " 2,\n",
       " 1,\n",
       " 1,\n",
       " 34,\n",
       " 2,\n",
       " 3,\n",
       " 11,\n",
       " 1,\n",
       " 11,\n",
       " 52,\n",
       " 2,\n",
       " 1,\n",
       " 19,\n",
       " 1,\n",
       " 2,\n",
       " 2,\n",
       " 3,\n",
       " 179,\n",
       " 37,\n",
       " 42,\n",
       " 4,\n",
       " 35,\n",
       " 1,\n",
       " 1,\n",
       " 18,\n",
       " 2,\n",
       " 4,\n",
       " 7,\n",
       " 17,\n",
       " 11,\n",
       " 1,\n",
       " 5,\n",
       " 1,\n",
       " 1,\n",
       " 1,\n",
       " 1,\n",
       " 1,\n",
       " 1,\n",
       " 1,\n",
       " 11,\n",
       " 216,\n",
       " 1,\n",
       " 5,\n",
       " 9,\n",
       " 1,\n",
       " 1,\n",
       " 2,\n",
       " 2,\n",
       " 2,\n",
       " 1,\n",
       " 1,\n",
       " 1,\n",
       " 2,\n",
       " 5,\n",
       " 1,\n",
       " 1,\n",
       " 2,\n",
       " 3,\n",
       " 2,\n",
       " 1,\n",
       " 1,\n",
       " 36,\n",
       " 14,\n",
       " 2,\n",
       " 49,\n",
       " 1,\n",
       " 23,\n",
       " 153,\n",
       " 2,\n",
       " 2,\n",
       " 1,\n",
       " 2,\n",
       " 125,\n",
       " 2,\n",
       " 1,\n",
       " 71,\n",
       " 2,\n",
       " 22,\n",
       " 9,\n",
       " 25,\n",
       " 11,\n",
       " 24,\n",
       " 61,\n",
       " 2,\n",
       " 1,\n",
       " 1,\n",
       " 5,\n",
       " 4,\n",
       " 4,\n",
       " 1,\n",
       " 5,\n",
       " 1,\n",
       " 1,\n",
       " 1,\n",
       " 1,\n",
       " 19,\n",
       " 2,\n",
       " 1,\n",
       " 2,\n",
       " 1,\n",
       " 1,\n",
       " 16,\n",
       " 2,\n",
       " 1,\n",
       " 16,\n",
       " 3,\n",
       " 3,\n",
       " 5,\n",
       " 1,\n",
       " 1,\n",
       " 49,\n",
       " 1,\n",
       " 3,\n",
       " 1,\n",
       " 1,\n",
       " 1,\n",
       " 43,\n",
       " 2,\n",
       " 1,\n",
       " 1,\n",
       " 1,\n",
       " 1,\n",
       " 4,\n",
       " 1,\n",
       " 1,\n",
       " 1,\n",
       " 18,\n",
       " 9,\n",
       " 1,\n",
       " 1,\n",
       " 10,\n",
       " 1,\n",
       " 1,\n",
       " 2,\n",
       " 14,\n",
       " 1,\n",
       " 3,\n",
       " 2,\n",
       " 5,\n",
       " 3,\n",
       " 1]"
      ]
     },
     "execution_count": 22,
     "metadata": {},
     "output_type": "execute_result"
    }
   ],
   "source": [
    "vd_count"
   ]
  },
  {
   "cell_type": "code",
   "execution_count": 23,
   "metadata": {},
   "outputs": [],
   "source": [
    "vow_dist_map = dict(zip(vd_set, vd_count))"
   ]
  },
  {
   "cell_type": "code",
   "execution_count": 24,
   "metadata": {},
   "outputs": [],
   "source": [
    "list = []\n",
    "for key, value in vow_dist_map.items():\n",
    "  list.append([key, value]) "
   ]
  },
  {
   "cell_type": "code",
   "execution_count": 25,
   "metadata": {},
   "outputs": [
    {
     "name": "stdout",
     "output_type": "stream",
     "text": [
      "4738\n"
     ]
    }
   ],
   "source": [
    "print(len(two_letters))"
   ]
  },
  {
   "cell_type": "code",
   "execution_count": 26,
   "metadata": {},
   "outputs": [
    {
     "data": {
      "text/html": [
       "<div>\n",
       "<style scoped>\n",
       "    .dataframe tbody tr th:only-of-type {\n",
       "        vertical-align: middle;\n",
       "    }\n",
       "\n",
       "    .dataframe tbody tr th {\n",
       "        vertical-align: top;\n",
       "    }\n",
       "\n",
       "    .dataframe thead th {\n",
       "        text-align: right;\n",
       "    }\n",
       "</style>\n",
       "<table border=\"1\" class=\"dataframe\">\n",
       "  <thead>\n",
       "    <tr style=\"text-align: right;\">\n",
       "      <th></th>\n",
       "      <th>Vowel Dist</th>\n",
       "      <th>Counts</th>\n",
       "    </tr>\n",
       "  </thead>\n",
       "  <tbody>\n",
       "    <tr>\n",
       "      <th>0</th>\n",
       "      <td>_ue__</td>\n",
       "      <td>9</td>\n",
       "    </tr>\n",
       "    <tr>\n",
       "      <th>1</th>\n",
       "      <td>o_e_e</td>\n",
       "      <td>2</td>\n",
       "    </tr>\n",
       "    <tr>\n",
       "      <th>2</th>\n",
       "      <td>a__ee</td>\n",
       "      <td>1</td>\n",
       "    </tr>\n",
       "    <tr>\n",
       "      <th>3</th>\n",
       "      <td>_ou__</td>\n",
       "      <td>56</td>\n",
       "    </tr>\n",
       "    <tr>\n",
       "      <th>4</th>\n",
       "      <td>_u__a</td>\n",
       "      <td>8</td>\n",
       "    </tr>\n",
       "  </tbody>\n",
       "</table>\n",
       "</div>"
      ],
      "text/plain": [
       "  Vowel Dist  Counts\n",
       "0      _ue__       9\n",
       "1      o_e_e       2\n",
       "2      a__ee       1\n",
       "3      _ou__      56\n",
       "4      _u__a       8"
      ]
     },
     "execution_count": 26,
     "metadata": {},
     "output_type": "execute_result"
    }
   ],
   "source": [
    "vow_df = pd.DataFrame(list, columns=['Vowel Dist', 'Counts'])\n",
    "vow_df.head()"
   ]
  },
  {
   "cell_type": "code",
   "execution_count": 27,
   "metadata": {},
   "outputs": [
    {
     "name": "stdout",
     "output_type": "stream",
     "text": [
      "\n"
     ]
    }
   ],
   "source": [
    "vow_df = vow_df.sort_values('Counts', ascending = False)\n",
    "vow_df_shrink = vow_df.iloc[:10,:]\n",
    "print()"
   ]
  },
  {
   "cell_type": "code",
   "execution_count": 28,
   "metadata": {},
   "outputs": [
    {
     "data": {
      "text/plain": [
       "1807"
      ]
     },
     "execution_count": 28,
     "metadata": {},
     "output_type": "execute_result"
    }
   ],
   "source": [
    "vow_df_shrink['Counts'].sum()"
   ]
  },
  {
   "cell_type": "code",
   "execution_count": 29,
   "metadata": {},
   "outputs": [
    {
     "data": {
      "text/plain": [
       "Text(0, 0.5, 'Percent of total words')"
      ]
     },
     "execution_count": 29,
     "metadata": {},
     "output_type": "execute_result"
    },
    {
     "data": {
      "image/png": "[encoded data removed]",
      "text/plain": [
       "<Figure size 432x288 with 1 Axes>"
      ]
     },
     "metadata": {
      "needs_background": "light"
     },
     "output_type": "display_data"
    }
   ],
   "source": [
    "plt.bar(x = vow_df_shrink['Vowel Dist'], height = vow_df_shrink['Counts']/vow_df_shrink['Counts'].sum(), color = ['r'])\n",
    "plt.title(\"Words with 2 letters\")\n",
    "plt.ylabel(\"Percent of total words\")"
   ]
  },
  {
   "cell_type": "code",
   "execution_count": 30,
   "metadata": {},
   "outputs": [
    {
     "data": {
      "text/html": [
       "<div>\n",
       "<style scoped>\n",
       "    .dataframe tbody tr th:only-of-type {\n",
       "        vertical-align: middle;\n",
       "    }\n",
       "\n",
       "    .dataframe tbody tr th {\n",
       "        vertical-align: top;\n",
       "    }\n",
       "\n",
       "    .dataframe thead th {\n",
       "        text-align: right;\n",
       "    }\n",
       "</style>\n",
       "<table border=\"1\" class=\"dataframe\">\n",
       "  <thead>\n",
       "    <tr style=\"text-align: right;\">\n",
       "      <th></th>\n",
       "      <th>Vowel Dist</th>\n",
       "      <th>Counts</th>\n",
       "    </tr>\n",
       "  </thead>\n",
       "  <tbody>\n",
       "  </tbody>\n",
       "</table>\n",
       "</div>"
      ],
      "text/plain": [
       "Empty DataFrame\n",
       "Columns: [Vowel Dist, Counts]\n",
       "Index: []"
      ]
     },
     "execution_count": 30,
     "metadata": {},
     "output_type": "execute_result"
    }
   ],
   "source": [
    "vow_df_shrink[vow_df_shrink['Vowel Dist'] == '_ee__']"
   ]
  },
  {
   "cell_type": "code",
   "execution_count": 31,
   "metadata": {},
   "outputs": [
    {
     "name": "stdout",
     "output_type": "stream",
     "text": [
      "[2, 19, 4, 0, 0]\n",
      "[0, 7, 3, 31, 4]\n",
      "[0, 8, 4, 0, 0]\n",
      "[1, 14, 4, 1, 0]\n",
      "[1, 2, 0, 0, 0]\n",
      "[4, 50, 15, 32, 4]\n",
      "4738\n",
      "\n"
     ]
    },
    {
     "data": {
      "text/plain": [
       "Text(0, 0.5, 'Percent of total words')"
      ]
     },
     "execution_count": 31,
     "metadata": {},
     "output_type": "execute_result"
    },
    {
     "data": {
      "image/png": "[encoded data removed]",
      "text/plain": [
       "<Figure size 432x288 with 1 Axes>"
      ]
     },
     "metadata": {
      "needs_background": "light"
     },
     "output_type": "display_data"
    }
   ],
   "source": [
    "a_list = [0,0,0,0,0]\n",
    "e_list = [0,0,0,0,0]\n",
    "i_list = [0,0,0,0,0]\n",
    "o_list = [0,0,0,0,0]\n",
    "u_list = [0,0,0,0,0]\n",
    "\n",
    "\n",
    "for word in db_wrong.index.values:\n",
    "    for i in range(0,5):\n",
    "        if word[i] == 'a':\n",
    "            a_list[i] +=1\n",
    "        if word[i] == 'e':\n",
    "            e_list[i] +=1\n",
    "        if word[i] == 'i':\n",
    "            i_list[i] +=1\n",
    "        if word[i] == 'o':\n",
    "            o_list[i] +=1\n",
    "        if word[i] == 'u':\n",
    "            u_list[i] +=1\n",
    "\n",
    "print(a_list)\n",
    "print(e_list)\n",
    "print(i_list)\n",
    "print(o_list)\n",
    "print(u_list)\n",
    "\n",
    "vow_list = [0,0,0,0,0]\n",
    "\n",
    "for i in range(0,5):\n",
    "    vow_list[i] = a_list[i] + e_list[i] + i_list[i] + o_list[i] + u_list[i]  \n",
    "    \n",
    "print(vow_list)\n",
    "\n",
    "#This actually gives no useful info. Let me try again.\n",
    "\n",
    "#most common vowel distributions.\n",
    "\n",
    "vdist_list = []\n",
    "for word in db_wrong.index.values:\n",
    "    vowel_list = ['_','_','_','_','_']\n",
    "    for i in range(0,5):\n",
    "        if word[i] in 'aeiou':\n",
    "            vowel_list[i] = word[i]\n",
    "    vowel_list = ''.join(vowel_list)\n",
    "    vdist_list.append(vowel_list)\n",
    "    \n",
    "\n",
    "vd_set = set(vdist_list)\n",
    "vd_count = []\n",
    "for i in vd_set:\n",
    "    vd_count.append(vdist_list.count(i))\n",
    "\n",
    "vd_count\n",
    "\n",
    "vow_dist_map = dict(zip(vd_set, vd_count))\n",
    "\n",
    "list = []\n",
    "for key, value in vow_dist_map.items():\n",
    "  list.append([key, value]) \n",
    "\n",
    "print(len(two_letters))\n",
    "\n",
    "vow_df = pd.DataFrame(list, columns=['Vowel Dist', 'Counts'])\n",
    "vow_df.head()\n",
    "\n",
    "vow_df = vow_df.sort_values('Counts', ascending = False)\n",
    "vow_df_shrink = vow_df.iloc[:10,:]\n",
    "print()\n",
    "\n",
    "plt.bar(x = vow_df_shrink['Vowel Dist'], height = vow_df_shrink['Counts']/vow_df_shrink['Counts'].sum(), color = ['r'])\n",
    "plt.title(\"Words with 2 letters\")\n",
    "plt.ylabel(\"Percent of total words\")"
   ]
  },
  {
   "cell_type": "code",
   "execution_count": null,
   "metadata": {},
   "outputs": [],
   "source": []
  },
  {
   "cell_type": "code",
   "execution_count": 32,
   "metadata": {},
   "outputs": [
    {
     "data": {
      "text/plain": [
       "Word\n",
       "abode    1\n",
       "ached    1\n",
       "beans    1\n",
       "berry    1\n",
       "bobby    1\n",
       "        ..\n",
       "wests    1\n",
       "wiper    1\n",
       "wraps    1\n",
       "yanks    1\n",
       "yards    1\n",
       "Name: Number Wrong, Length: 64, dtype: int64"
      ]
     },
     "execution_count": 32,
     "metadata": {},
     "output_type": "execute_result"
    }
   ],
   "source": [
    "db_wrong.loc[:,'Number Wrong']"
   ]
  },
  {
   "cell_type": "code",
   "execution_count": 33,
   "metadata": {},
   "outputs": [],
   "source": [
    "pattern_brick = {}\n",
    "pattern_stomp = {}\n",
    "pattern_nudge = {}\n",
    "for word, row in db.iterrows():\n",
    "    pattern1 = []\n",
    "    pattern2 = []\n",
    "    pattern3 = []\n",
    "    for i in range(0,5):\n",
    "        if word[i] == 'brick'[i]:\n",
    "            pattern1.append('g')\n",
    "        elif 'brick'[i] in word:\n",
    "            pattern1.append('y')\n",
    "        else:\n",
    "            pattern1.append('b')\n",
    "    for i in range(0,5):\n",
    "        if word[i] == 'stomp'[i]:\n",
    "            pattern2.append('g')\n",
    "        elif 'stomp'[i] in word:\n",
    "            pattern2.append('y')\n",
    "        else:\n",
    "            pattern2.append('b')\n",
    "    for i in range(0,5):\n",
    "        if word[i] == 'nudge'[i]:\n",
    "            pattern3.append('g')\n",
    "        elif 'nudge'[i] in word:\n",
    "            pattern3.append('y')\n",
    "        else:\n",
    "            pattern3.append('b')\n",
    "    pattern_brick[word] = \"\".join(pattern1)\n",
    "    pattern_stomp[word] = \"\".join(pattern2)\n",
    "    pattern_nudge[word] = \"\".join(pattern3)\n",
    "    \n"
   ]
  },
  {
   "cell_type": "code",
   "execution_count": 34,
   "metadata": {},
   "outputs": [],
   "source": [
    "brick = []\n",
    "for key in pattern_brick:\n",
    "    brick.append(pattern_brick[key])\n",
    "    \n",
    "stomp = []\n",
    "for key in pattern_stomp:\n",
    "    stomp.append(pattern_stomp[key])\n",
    "    \n",
    "nudge = []\n",
    "for key in pattern_nudge:\n",
    "    nudge.append(pattern_nudge[key])\n"
   ]
  },
  {
   "cell_type": "code",
   "execution_count": 35,
   "metadata": {},
   "outputs": [],
   "source": [
    "db['Brick'] = brick\n",
    "db['Stomp'] = stomp\n",
    "db['Nudge'] = nudge\n"
   ]
  },
  {
   "cell_type": "code",
   "execution_count": 36,
   "metadata": {},
   "outputs": [],
   "source": [
    "def num_of_patterns(database, word):\n",
    "    pattern_list = []\n",
    "    for i in database[word]:\n",
    "        pattern_list.append(i)\n",
    "    pattern_set = set()\n",
    "    for i in pattern_list:\n",
    "        pattern_set.add(i)\n",
    "    pattern_set"
   ]
  },
  {
   "cell_type": "code",
   "execution_count": 37,
   "metadata": {},
   "outputs": [],
   "source": [
    "num_of_patterns(db, 'Brick')"
   ]
  },
  {
   "cell_type": "code",
   "execution_count": null,
   "metadata": {},
   "outputs": [],
   "source": []
  },
  {
   "cell_type": "code",
   "execution_count": 38,
   "metadata": {},
   "outputs": [],
   "source": [
    "db_wrong = db[db['Number Wrong'] > 0]"
   ]
  },
  {
   "cell_type": "code",
   "execution_count": 39,
   "metadata": {},
   "outputs": [],
   "source": [
    "num_of_patterns(db_wrong, 'Brick')"
   ]
  },
  {
   "cell_type": "code",
   "execution_count": 40,
   "metadata": {},
   "outputs": [],
   "source": [
    "num_of_patterns(db, 'Stomp')"
   ]
  },
  {
   "cell_type": "code",
   "execution_count": 41,
   "metadata": {},
   "outputs": [],
   "source": [
    "num_of_patterns(db_wrong, 'Stomp')"
   ]
  },
  {
   "cell_type": "code",
   "execution_count": 42,
   "metadata": {},
   "outputs": [],
   "source": [
    "num_of_patterns(db, 'Nudge')"
   ]
  },
  {
   "cell_type": "code",
   "execution_count": 43,
   "metadata": {},
   "outputs": [],
   "source": [
    "nudge_patterns = num_of_patterns(db_wrong, 'Nudge')"
   ]
  },
  {
   "cell_type": "code",
   "execution_count": 44,
   "metadata": {},
   "outputs": [],
   "source": [
    "nudge_patterns"
   ]
  },
  {
   "cell_type": "markdown",
   "metadata": {},
   "source": [
    "Ok, so it looks like there are 98 possible layouts for the pattern returned on the first word. Only 13 of those patterns lead to a possible error.\n"
   ]
  },
  {
   "cell_type": "markdown",
   "metadata": {},
   "source": [
    "How many words are in one of the init patterns that can lead to a wrong answer, but never do lead to a wrong answer?"
   ]
  },
  {
   "cell_type": "code",
   "execution_count": 45,
   "metadata": {},
   "outputs": [],
   "source": [
    "db_new = db[db['Number Wrong'] == 0]"
   ]
  },
  {
   "cell_type": "code",
   "execution_count": 46,
   "metadata": {},
   "outputs": [],
   "source": [
    "db_new = db[db['Nudge'].isin(['bbbyy', 'yybbb', 'bbbbg', 'bbbby', 'ybyby', 'bgbby', 'ybbyb', 'bbbyb', 'bgbbb', 'ybbby', 'ybbbb', 'bbybb', 'bbgby', 'bbyby'])]"
   ]
  },
  {
   "cell_type": "code",
   "execution_count": 47,
   "metadata": {},
   "outputs": [
    {
     "data": {
      "text/plain": [
       "(2587, 15)"
      ]
     },
     "execution_count": 47,
     "metadata": {},
     "output_type": "execute_result"
    }
   ],
   "source": [
    "db_new.shape"
   ]
  },
  {
   "cell_type": "code",
   "execution_count": 48,
   "metadata": {},
   "outputs": [],
   "source": [
    "db_new1 = db[~db['Nudge'].isin(['bbbyy', 'yybbb', 'bbbbg', 'bbbby', 'ybyby', 'bgbby', 'ybbyb', 'bbbyb', 'bgbbb', 'ybbby', 'ybbbb', 'bbybb', 'bbgby', 'bbyby'])]"
   ]
  },
  {
   "cell_type": "code",
   "execution_count": 49,
   "metadata": {},
   "outputs": [
    {
     "data": {
      "text/plain": [
       "(2151, 15)"
      ]
     },
     "execution_count": 49,
     "metadata": {},
     "output_type": "execute_result"
    }
   ],
   "source": [
    "db_new1.shape"
   ]
  },
  {
   "cell_type": "code",
   "execution_count": 50,
   "metadata": {},
   "outputs": [],
   "source": [
    "db_nudge = db[(db['Number Wrong'] > 0) & (db['Nudge'] == 'bbbyy')]"
   ]
  },
  {
   "cell_type": "code",
   "execution_count": 51,
   "metadata": {},
   "outputs": [
    {
     "ename": "SyntaxError",
     "evalue": "invalid syntax (<ipython-input-51-9ca9b628189b>, line 1)",
     "output_type": "error",
     "traceback": [
      "\u001b[0;36m  File \u001b[0;32m\"<ipython-input-51-9ca9b628189b>\"\u001b[0;36m, line \u001b[0;32m1\u001b[0m\n\u001b[0;31m    for i in db_wrong\u001b[0m\n\u001b[0m                     ^\u001b[0m\n\u001b[0;31mSyntaxError\u001b[0m\u001b[0;31m:\u001b[0m invalid syntax\n"
     ]
    }
   ],
   "source": [
    "for i in db_wrong"
   ]
  },
  {
   "cell_type": "code",
   "execution_count": null,
   "metadata": {},
   "outputs": [],
   "source": [
    "db[db['Nudge'] == 'bbbyy']"
   ]
  },
  {
   "cell_type": "code",
   "execution_count": null,
   "metadata": {},
   "outputs": [],
   "source": [
    "wl = []\n",
    "for i in db[db['Nudge'] == 'bbbyy'].index:\n",
    "    wl.append(i)"
   ]
  },
  {
   "cell_type": "code",
   "execution_count": null,
   "metadata": {},
   "outputs": [],
   "source": [
    "db = wordle_blitz('brick','stomp','nudge', 10000, wl)"
   ]
  },
  {
   "cell_type": "code",
   "execution_count": null,
   "metadata": {},
   "outputs": [],
   "source": [
    "db = wordle_blitz('brick','halos','nudge', 10000, wl)"
   ]
  },
  {
   "cell_type": "code",
   "execution_count": null,
   "metadata": {},
   "outputs": [],
   "source": [
    "pattern_brick = {}\n",
    "pattern_stomp = {}\n",
    "pattern_nudge = {}\n",
    "for word, row in db.iterrows():\n",
    "    pattern1 = []\n",
    "    pattern2 = []\n",
    "    pattern3 = []\n",
    "    for i in range(0,5):\n",
    "        if word[i] == 'brick'[i]:\n",
    "            pattern1.append('g')\n",
    "        elif 'brick'[i] in word:\n",
    "            pattern1.append('y')\n",
    "        else:\n",
    "            pattern1.append('b')\n",
    "    for i in range(0,5):\n",
    "        if word[i] == 'stomp'[i]:\n",
    "            pattern2.append('g')\n",
    "        elif 'stomp'[i] in word:\n",
    "            pattern2.append('y')\n",
    "        else:\n",
    "            pattern2.append('b')\n",
    "    for i in range(0,5):\n",
    "        if word[i] == 'nudge'[i]:\n",
    "            pattern3.append('g')\n",
    "        elif 'nudge'[i] in word:\n",
    "            pattern3.append('y')\n",
    "        else:\n",
    "            pattern3.append('b')\n",
    "    pattern_brick[word] = \"\".join(pattern1)\n",
    "    pattern_stomp[word] = \"\".join(pattern2)\n",
    "    pattern_nudge[word] = \"\".join(pattern3)"
   ]
  },
  {
   "cell_type": "code",
   "execution_count": null,
   "metadata": {},
   "outputs": [],
   "source": [
    "for i in nudge_patterns:\n",
    "    print("
   ]
  },
  {
   "cell_type": "code",
   "execution_count": null,
   "metadata": {},
   "outputs": [],
   "source": [
    "db[db['Nudge'] == 'bbbyy'][['Percent Missed']].mean()"
   ]
  },
  {
   "cell_type": "code",
   "execution_count": null,
   "metadata": {},
   "outputs": [],
   "source": []
  }
 ],
 "metadata": {
  "kernelspec": {
   "display_name": "Python 3",
   "language": "python",
   "name": "python3"
  },
  "language_info": {
   "codemirror_mode": {
    "name": "ipython",
    "version": 3
   },
   "file_extension": ".py",
   "mimetype": "text/x-python",
   "name": "python",
   "nbconvert_exporter": "python",
   "pygments_lexer": "ipython3",
   "version": "3.7.6"
  }
 },
 "nbformat": 4,
 "nbformat_minor": 4
}
