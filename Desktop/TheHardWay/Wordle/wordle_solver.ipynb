{
 "cells": [
  {
   "cell_type": "code",
   "execution_count": 60,
   "metadata": {},
   "outputs": [
    {
     "data": {
      "text/plain": [
       "8"
      ]
     },
     "execution_count": 60,
     "metadata": {},
     "output_type": "execute_result"
    }
   ],
   "source": [
    "import shelve\n",
    "import random\n",
    "import pandas as pd\n",
    "from wrongwords import wrong_words\n",
    "\n",
    "shelfFile = shelve.open('/Users/ericschlosser/Desktop/TheHardWay/Wordle/five_words')\n",
    "five_words = shelfFile['five_words']\n",
    "five_words1 = five_words\n",
    "\n",
    "start = 'brickstompnudge'\n",
    "\n",
    "yellow = 'dine'\n",
    "\n",
    "yellow = list(yellow)\n",
    "\n",
    "for i in yellow:\n",
    "    five_words = [word for word in five_words if i in word]\n",
    "len(five_words)\n",
    "\n",
    "grey = [x for x in start if x not in yellow]\n",
    "\n",
    "\n",
    "for i in grey:\n",
    "    five_words = [word for word in five_words if i not in word]\n",
    "len(five_words)"
   ]
  },
  {
   "cell_type": "code",
   "execution_count": 61,
   "metadata": {},
   "outputs": [
    {
     "name": "stdout",
     "output_type": "stream",
     "text": [
      "fined\n",
      "lined\n",
      "wined\n"
     ]
    },
    {
     "data": {
      "text/plain": [
       "['dined', 'fiend', 'fined', 'index', 'lined', 'nixed', 'widen', 'wined']"
      ]
     },
     "execution_count": 61,
     "metadata": {},
     "output_type": "execute_result"
    }
   ],
   "source": [
    "for word in five_words:\n",
    "    if word in wrong_words:\n",
    "        print(word)\n",
    "\n",
    "five_words\n",
    "\n"
   ]
  },
  {
   "cell_type": "code",
   "execution_count": 62,
   "metadata": {},
   "outputs": [
    {
     "name": "stdout",
     "output_type": "stream",
     "text": [
      "['l', 'f', 'w']\n"
     ]
    }
   ],
   "source": [
    "pos_wrong = list(set(five_words) & set(wrong_words))\n",
    "wrong_lets = []\n",
    "first_lets = 'brickstompnudge'\n",
    "if len(pos_wrong) == 0:\n",
    "    guess = five_words[0]\n",
    "else:\n",
    "    for word in pos_wrong:\n",
    "        for letter in word:\n",
    "            if letter not in first_lets:\n",
    "                wrong_lets.append(letter)\n",
    "print(wrong_lets)"
   ]
  },
  {
   "cell_type": "code",
   "execution_count": 67,
   "metadata": {},
   "outputs": [],
   "source": [
    "pos_next = []\n",
    "max_count = 0\n",
    "for word in five_words1:\n",
    "    count = 0\n",
    "    for letter in set(word):\n",
    "        if letter in wrong_lets:\n",
    "            count +=1\n",
    "    if count > max_count:\n",
    "        max_count = count\n",
    "        pos_next = [word]\n",
    "    if count == max_count:\n",
    "        pos_next.append(word)\n",
    "    else:\n",
    "        pass"
   ]
  },
  {
   "cell_type": "code",
   "execution_count": 68,
   "metadata": {},
   "outputs": [
    {
     "data": {
      "text/plain": [
       "['awful', 'awful', 'flaws', 'flows', 'flown', 'wolfs']"
      ]
     },
     "execution_count": 68,
     "metadata": {},
     "output_type": "execute_result"
    }
   ],
   "source": [
    "pos_next"
   ]
  },
  {
   "cell_type": "code",
   "execution_count": 51,
   "metadata": {},
   "outputs": [
    {
     "data": {
      "text/plain": [
       "['aquas', 'flush', 'hauls', 'shush', 'slush', 'squaw', 'usual']"
      ]
     },
     "execution_count": 51,
     "metadata": {},
     "output_type": "execute_result"
    }
   ],
   "source": [
    "#five_words = [word for word in five_words if word[4] == 'e']\n",
    "#five_words = [word for word in five_words if word[0] == 's']\n",
    "#five_words = [word for word in five_words if word[1] == 't']\n",
    "five_words = [word for word in five_words if word[2] == 'u']\n",
    "len(five_words)\n",
    "\n",
    "five_words"
   ]
  },
  {
   "cell_type": "code",
   "execution_count": 23,
   "metadata": {},
   "outputs": [
    {
     "data": {
      "text/plain": [
       "3"
      ]
     },
     "execution_count": 23,
     "metadata": {},
     "output_type": "execute_result"
    }
   ],
   "source": [
    "#yellow\n",
    "\n",
    "five_words = [word for word in five_words if word[4] != 'd']\n",
    "five_words = [word for word in five_words if word[2] != 'd']\n",
    "five_words = [word for word in five_words if word[1] != 'a']\n",
    "five_words = [word for word in five_words if word[3] != 'e']\n",
    "five_words = [word for word in five_words if word[4] != 'e']\n",
    "five_words = [word for word in five_words if word[4] != 'd']\n",
    "len(five_words)"
   ]
  },
  {
   "cell_type": "code",
   "execution_count": 22,
   "metadata": {},
   "outputs": [
    {
     "data": {
      "text/plain": [
       "19"
      ]
     },
     "execution_count": 22,
     "metadata": {},
     "output_type": "execute_result"
    }
   ],
   "source": [
    "grey = 'hz'\n",
    "\n",
    "for i in grey:\n",
    "    five_words = [word for word in five_words if i not in word]\n",
    "len(five_words)"
   ]
  },
  {
   "cell_type": "code",
   "execution_count": 56,
   "metadata": {},
   "outputs": [
    {
     "data": {
      "text/plain": [
       "9"
      ]
     },
     "execution_count": 56,
     "metadata": {},
     "output_type": "execute_result"
    }
   ],
   "source": [
    "yellow = 'pals'\n",
    "\n",
    "yellow = list(yellow)\n",
    "\n",
    "for i in yellow:\n",
    "    five_words = [word for word in five_words if i in word]\n",
    "len(five_words)"
   ]
  },
  {
   "cell_type": "code",
   "execution_count": 57,
   "metadata": {},
   "outputs": [
    {
     "data": {
      "text/plain": [
       "['flaps',\n",
       " 'lapps',\n",
       " 'palls',\n",
       " 'palsy',\n",
       " 'pawls',\n",
       " 'plash',\n",
       " 'plays',\n",
       " 'slaps',\n",
       " 'splay']"
      ]
     },
     "execution_count": 57,
     "metadata": {},
     "output_type": "execute_result"
    }
   ],
   "source": [
    "for word in five_words:\n",
    "    if word in wrong_words:\n",
    "        print(word)\n",
    "\n",
    "five_words\n",
    "\n"
   ]
  },
  {
   "cell_type": "code",
   "execution_count": null,
   "metadata": {},
   "outputs": [],
   "source": []
  },
  {
   "cell_type": "code",
   "execution_count": null,
   "metadata": {},
   "outputs": [],
   "source": []
  },
  {
   "cell_type": "code",
   "execution_count": 26,
   "metadata": {},
   "outputs": [
    {
     "ename": "NameError",
     "evalue": "name 'dead' is not defined",
     "output_type": "error",
     "traceback": [
      "\u001b[0;31m---------------------------------------------------------------------------\u001b[0m",
      "\u001b[0;31mNameError\u001b[0m                                 Traceback (most recent call last)",
      "\u001b[0;32m<ipython-input-26-cca1f22594a3>\u001b[0m in \u001b[0;36m<module>\u001b[0;34m\u001b[0m\n\u001b[1;32m      1\u001b[0m \u001b[0mgrey\u001b[0m \u001b[0;34m=\u001b[0m \u001b[0;34m'lf'\u001b[0m\u001b[0;34m\u001b[0m\u001b[0;34m\u001b[0m\u001b[0m\n\u001b[1;32m      2\u001b[0m \u001b[0;34m\u001b[0m\u001b[0m\n\u001b[0;32m----> 3\u001b[0;31m \u001b[0mgrey\u001b[0m \u001b[0;34m=\u001b[0m \u001b[0mlist\u001b[0m\u001b[0;34m(\u001b[0m\u001b[0mdead\u001b[0m\u001b[0;34m)\u001b[0m\u001b[0;34m\u001b[0m\u001b[0;34m\u001b[0m\u001b[0m\n\u001b[0m\u001b[1;32m      4\u001b[0m \u001b[0;34m\u001b[0m\u001b[0m\n\u001b[1;32m      5\u001b[0m \u001b[0;32mfor\u001b[0m \u001b[0mi\u001b[0m \u001b[0;32min\u001b[0m \u001b[0mdead\u001b[0m\u001b[0;34m:\u001b[0m\u001b[0;34m\u001b[0m\u001b[0;34m\u001b[0m\u001b[0m\n",
      "\u001b[0;31mNameError\u001b[0m: name 'dead' is not defined"
     ]
    }
   ],
   "source": [
    "grey = 'lf'\n",
    "\n",
    "grey = list(dead)\n",
    "\n",
    "for i in dead:\n",
    "    five_words = [word for word in five_words if i not in word]\n"
   ]
  },
  {
   "cell_type": "code",
   "execution_count": 39,
   "metadata": {},
   "outputs": [],
   "source": [
    "live = ['r','e','s','t']\n",
    "\n",
    "for i in live:\n",
    "    five_words = [word for word in five_words if i in word]\n"
   ]
  },
  {
   "cell_type": "code",
   "execution_count": 2,
   "metadata": {},
   "outputs": [
    {
     "data": {
      "text/plain": [
       "['kitty']"
      ]
     },
     "execution_count": 2,
     "metadata": {},
     "output_type": "execute_result"
    }
   ],
   "source": [
    "five_words\n"
   ]
  },
  {
   "cell_type": "code",
   "execution_count": null,
   "metadata": {},
   "outputs": [],
   "source": []
  }
 ],
 "metadata": {
  "kernelspec": {
   "display_name": "Python 3",
   "language": "python",
   "name": "python3"
  },
  "language_info": {
   "codemirror_mode": {
    "name": "ipython",
    "version": 3
   },
   "file_extension": ".py",
   "mimetype": "text/x-python",
   "name": "python",
   "nbconvert_exporter": "python",
   "pygments_lexer": "ipython3",
   "version": "3.7.6"
  }
 },
 "nbformat": 4,
 "nbformat_minor": 4
}
